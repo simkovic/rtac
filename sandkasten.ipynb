{
 "cells": [
  {
   "cell_type": "code",
   "execution_count": 44,
   "metadata": {
    "collapsed": false
   },
   "outputs": [
    {
     "name": "stderr",
     "output_type": "stream",
     "text": [
      "/usr/local/lib/python2.7/dist-packages/matplotlib-1.5.0-py2.7-linux-x86_64.egg/matplotlib/__init__.py:872: UserWarning: axes.color_cycle is deprecated and replaced with axes.prop_cycle; please use the latter.\n",
      "  warnings.warn(self.msg_depr % (key, alt_key))\n"
     ]
    }
   ],
   "source": [
    "import numpy as np\n",
    "import pystan\n",
    "from matustools.matusplotlib import saveStanFit"
   ]
  },
  {
   "cell_type": "code",
   "execution_count": 79,
   "metadata": {
    "collapsed": false
   },
   "outputs": [],
   "source": [
    "np.random.seed(5)\n",
    "\n",
    "modelOneGroup='''\n",
    "data{\n",
    "    int<lower=0> N; //nr of subjects\n",
    "    int<lower=0> T; //nr of trials\n",
    "    real rt[N,T];\n",
    "    int<lower=0,upper=1> ac[N,T];\n",
    "\n",
    "}parameters{\n",
    "    real<lower=0> sigma[N];\n",
    "    vector[2] mu[N];\n",
    "    vector[2] hm;\n",
    "    vector<lower=0>[2] hsd;\n",
    "    corr_matrix[2] r;  \n",
    "}model{\n",
    "    matrix[2,2] Theta;\n",
    "    r~lkj_corr(1);\n",
    "    Theta<-quad_form_diag(r,hsd);\n",
    "    for (n in 1:N){\n",
    "        mu[n]~multi_normal(hm,Theta);\n",
    "    for (t in 1:T){\n",
    "        if (rt[n,t]>0) rt[n,t]~lognormal(mu[n][1],sigma[n]);\n",
    "        ac[n,t]~bernoulli_logit(mu[n][2]);\n",
    "    }}   \n",
    "}'''\n",
    "\n",
    "modelMultiCondSameTheta='''\n",
    "data{\n",
    "    int<lower=0> N; //nr of subjects\n",
    "    int<lower=0> T; //nr of trials\n",
    "    int<lower=0> C; //nr of conditions\n",
    "    int<lower=0> maxT[C]; // max nr of trials within each condition\n",
    "    real rt[N,C,T];\n",
    "    int<lower=-1,upper=1> ac[N,C,T];\n",
    "\n",
    "}parameters{\n",
    "    real<lower=0> sigma[N];\n",
    "    vector<lower=-10,upper=10>[2] mu[N,C];\n",
    "    vector<lower=-10,upper=10>[2] hm[C];\n",
    "    vector<lower=0>[2] hsd;\n",
    "    corr_matrix[2] r;  \n",
    "}model{\n",
    "    matrix[2,2] Theta;\n",
    "    r~lkj_corr(1);\n",
    "    Theta<-quad_form_diag(r,hsd);\n",
    "    for (n in 1:N){\n",
    "    for (c in 1:C){\n",
    "        mu[n,c]~multi_normal(hm[c],Theta);\n",
    "    for (t in 1:maxT[c]){\n",
    "        if (rt[n,c,t]>0) rt[n,c,t]~lognormal(mu[n,c][1],sigma[n]);\n",
    "        if (rt[n,c,t]<0) increment_log_prob(log1m(lognormal_cdf(-rt[n,c,t],mu[n,c][1],sigma[n])));\n",
    "        if (ac[n,c,t]>-1) ac[n,c,t]~bernoulli_logit(mu[n,c][2]);\n",
    "    }}}   \n",
    "}'''\n",
    "\n",
    "def estimateOneGroup(data):\n",
    "    sm=pystan.StanModel(model_code=modelOneGroup)\n",
    "    dat={'N':data.shape[0],'T':data.shape[1],'rt':data[:,:,0],'ac':np.int32(data[:,:,1])}\n",
    "    fit=smBoth.sampling(data=dat,iter=2000,chains=6,seed=np.random.randint(2**16),\n",
    "                        warmup=1000,thin=1,n_jobs=6)\n",
    "    saveStanFit(fit,'oneGroup')\n",
    "    w=fit.extract()\n",
    "    return (w['mu'],w['hm'],w['hsd'],w['r'][:,0,1],w['sigma'])\n",
    "\n",
    "def estimateMultiCondSameCov(*args,**kwargs):\n",
    "    '''mutiple conditions with identical covariance matrix and hence identical sd and r'''\n",
    "    C=len(args)\n",
    "    inputPars = kwargs.get('inputPars',\"random\")\n",
    "    T=max(map(lambda x: x.shape[1],args))\n",
    "    N=args[0].shape[0]\n",
    "    data=np.zeros((N,C,T,2))\n",
    "    maxT=[]\n",
    "    for c in range(C):\n",
    "        maxT.append(args[c].shape[1])\n",
    "        data[:,c,:maxT[c],:]=args[c]\n",
    "    print 'fitting model'\n",
    "    sm=pystan.StanModel(model_code=modelMultiCondSameTheta)\n",
    "    dat={'N':N,'T':T,'C':C,'rt':data[:,:,:,0],'ac':np.int32(data[:,:,:,1]),'maxT':maxT}\n",
    "    fit=sm.sampling(data=dat,iter=2000,chains=6,seed=np.random.randint(2**16),\n",
    "                        warmup=1000,thin=1,n_jobs=6,init=inputPars)\n",
    "    saveStanFit(fit,'multiCondSameCov')\n",
    "    w=fit.extract()\n",
    "    print 'finished'\n",
    "    return w['mu'],w['hm'],w['hsd'],w['r'][:,0,1],w['sigma']"
   ]
  },
  {
   "cell_type": "code",
   "execution_count": 81,
   "metadata": {
    "collapsed": false
   },
   "outputs": [
    {
     "name": "stdout",
     "output_type": "stream",
     "text": [
      "fitting model\n",
      "finished\n"
     ]
    },
    {
     "name": "stderr",
     "output_type": "stream",
     "text": [
      "/usr/lib/python2.7/multiprocessing/queues.py:392: UserWarning: Pickling fit objects is an experimental feature!\n",
      "The relevant StanModel instance must be pickled along with this fit object.\n",
      "When unpickling the StanModel must be unpickled first.\n",
      "  return send(obj)\n",
      "/usr/lib/python2.7/multiprocessing/queues.py:392: UserWarning: Pickling fit objects is an experimental feature!\n",
      "The relevant StanModel instance must be pickled along with this fit object.\n",
      "When unpickling the StanModel must be unpickled first.\n",
      "  return send(obj)\n",
      "/usr/lib/python2.7/multiprocessing/queues.py:392: UserWarning: Pickling fit objects is an experimental feature!\n",
      "The relevant StanModel instance must be pickled along with this fit object.\n",
      "When unpickling the StanModel must be unpickled first.\n",
      "  return send(obj)\n",
      "/usr/lib/python2.7/multiprocessing/queues.py:392: UserWarning: Pickling fit objects is an experimental feature!\n",
      "The relevant StanModel instance must be pickled along with this fit object.\n",
      "When unpickling the StanModel must be unpickled first.\n",
      "  return send(obj)\n",
      "/usr/lib/python2.7/multiprocessing/queues.py:392: UserWarning: Pickling fit objects is an experimental feature!\n",
      "The relevant StanModel instance must be pickled along with this fit object.\n",
      "When unpickling the StanModel must be unpickled first.\n",
      "  return send(obj)\n",
      "/usr/lib/python2.7/multiprocessing/queues.py:392: UserWarning: Pickling fit objects is an experimental feature!\n",
      "The relevant StanModel instance must be pickled along with this fit object.\n",
      "When unpickling the StanModel must be unpickled first.\n",
      "  return send(obj)\n"
     ]
    }
   ],
   "source": [
    "ipath='/home/matus/Desktop/chase/behavioralOutput/'\n",
    "\n",
    "def loadData(vpn, verbose=False):\n",
    "    D=[]\n",
    "    for vp in vpn:\n",
    "        dat=np.loadtxt(ipath+'vp%03d.res'%vp)\n",
    "        if verbose: print vp, dat.shape\n",
    "        D.append(dat[dat[:,1]>0,:])\n",
    "    D=np.concatenate(D,0)\n",
    "    return D\n",
    "\n",
    "BLMAX=4 # maximum number of block per subject\n",
    "T1=36\n",
    "T2=4\n",
    "vpn=range(20,70) # subject ids\n",
    "D=loadData(vpn)\n",
    "\n",
    "dat1=np.zeros((len(vpn),BLMAX*T1,2))\n",
    "dat2=np.zeros((len(vpn),BLMAX*T2,2))\n",
    "dat1[:,:,1]=-1;dat2[:,:,1]=-1\n",
    "for i in range(len(vpn)):\n",
    "    sel= D[:,0]==vpn[i]\n",
    "    acc= D[sel,-1]\n",
    "    rts= D[sel,6]\n",
    "    acc[rts==30]=-1\n",
    "    rts[rts==30]=-30\n",
    "    cond=D[sel,3]<36\n",
    "    dat1[i,:cond.sum(),0]=rts[cond]\n",
    "    dat2[i,:(~cond).sum(),0]=rts[~cond]\n",
    "    dat1[i,:cond.sum(),1]=acc[cond]\n",
    "    dat2[i,:(~cond).sum(),1]=acc[~cond]\n",
    "ipr=6*[{'sigma':5*np.ones(N),'mu':np.ones((N,C,2)),'hm':[[1,1],[1,1]],\n",
    "            'hsd':[1,2],'r':[[1,0.5],[0.5,1]]}]\n",
    "pts,mu,sd,r,sigma=estimateMultiCondSameCov(dat1,dat2,inputPars=ipr)"
   ]
  },
  {
   "cell_type": "code",
   "execution_count": null,
   "metadata": {
    "collapsed": true
   },
   "outputs": [],
   "source": []
  }
 ],
 "metadata": {
  "kernelspec": {
   "display_name": "Python 2",
   "language": "python",
   "name": "python2"
  },
  "language_info": {
   "codemirror_mode": {
    "name": "ipython",
    "version": 2
   },
   "file_extension": ".py",
   "mimetype": "text/x-python",
   "name": "python",
   "nbconvert_exporter": "python",
   "pygments_lexer": "ipython2",
   "version": "2.7.10"
  }
 },
 "nbformat": 4,
 "nbformat_minor": 0
}
